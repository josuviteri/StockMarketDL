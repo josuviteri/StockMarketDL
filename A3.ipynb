{
 "cells": [
  {
   "cell_type": "code",
   "execution_count": 1,
   "id": "d015b4316da84843",
   "metadata": {
    "ExecuteTime": {
     "end_time": "2025-04-11T09:28:31.125369Z",
     "start_time": "2025-04-11T09:28:31.117686Z"
    }
   },
   "outputs": [
    {
     "name": "stdout",
     "output_type": "stream",
     "text": [
      "Hello World Test Commit\n"
     ]
    }
   ],
   "source": [
    "print(\"Hello World Test Commit\")"
   ]
  },
  {
   "cell_type": "code",
   "execution_count": 1,
   "id": "bc898112",
   "metadata": {},
   "outputs": [
    {
     "name": "stdout",
     "output_type": "stream",
     "text": [
      "test commit\n"
     ]
    }
   ],
   "source": [
    "print(\"test commit\")"
   ]
  }
 ],
 "metadata": {
  "kernelspec": {
   "display_name": "Python 3",
   "language": "python",
   "name": "python3"
  },
  "language_info": {
   "codemirror_mode": {
    "name": "ipython",
    "version": 3
   },
   "file_extension": ".py",
   "mimetype": "text/x-python",
   "name": "python",
   "nbconvert_exporter": "python",
   "pygments_lexer": "ipython3",
   "version": "3.12.6"
  }
 },
 "nbformat": 5,
 "nbformat_minor": 9
}
